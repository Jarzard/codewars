{
 "cells": [
  {
   "cell_type": "markdown",
   "metadata": {},
   "source": [
    "# Descending Order\n",
    "---\n",
    "\n",
    "### Challenge\n",
    "> Your task is to make a function that can take any non-negative integer as a argument and return it with its digits in descending order. Essentially, rearrange the digits to create the highest possible number.\n",
    "\n",
    "<b>Examples</b>: <br>\n",
    "Input: 21445 Output: 54421<br>\n",
    "Input: 145263 Output: 654321 <br>\n",
    "Input: 1254859723 Output: 9875543221<br>\n",
    "\n",
    "https://www.codewars.com/kata/descending-order/python\n",
    "\n",
    "---"
   ]
  },
  {
   "cell_type": "markdown",
   "metadata": {},
   "source": [
    "## First Attempt\n",
    "This helped me understand the procedures needed to get to the solution"
   ]
  },
  {
   "cell_type": "code",
   "execution_count": 132,
   "metadata": {
    "collapsed": true
   },
   "outputs": [],
   "source": [
    "def Descending_Order_1(num):\n",
    "    #convert to string and initalize list\n",
    "    numStr = str(num)\n",
    "    numList = []\n",
    "    \n",
    "    #append digits to the list\n",
    "    for i in numStr:\n",
    "        numList.append(int(i))\n",
    "        \n",
    "    #sort digits in descending order\n",
    "    numList.sort(reverse=True)\n",
    "    desc = numList\n",
    "    \n",
    "    #convert digits back to a string\n",
    "    s = [str(i) for i in desc]\n",
    "    \n",
    "    #concatenate and print digits\n",
    "    lrg = int(\"\".join(s))\n",
    "    print(lrg)"
   ]
  },
  {
   "cell_type": "code",
   "execution_count": 133,
   "metadata": {},
   "outputs": [
    {
     "name": "stdout",
     "output_type": "stream",
     "text": [
      "9988764\n"
     ]
    }
   ],
   "source": [
    "Descending_Order_1(9796884)"
   ]
  },
  {
   "cell_type": "markdown",
   "metadata": {},
   "source": [
    "## Second Attempt\n",
    "I learned how to quickly convert the integer into a list of digits. I no longer had to initalize an empty list."
   ]
  },
  {
   "cell_type": "code",
   "execution_count": 145,
   "metadata": {},
   "outputs": [],
   "source": [
    "def Descending_Order_2(num):\n",
    "    #convert to string; then to integer list\n",
    "    numList = [int(i) for i in str(num)]\n",
    "        \n",
    "    #sort digits in descending order\n",
    "    numList.sort(reverse=True)\n",
    "    desc = numList\n",
    "    \n",
    "    #convert digits back to a string\n",
    "    s = [str(i) for i in desc]\n",
    "    \n",
    "    #concatenate and print digits\n",
    "    lrg = int(\"\".join(s))\n",
    "    print(lrg)"
   ]
  },
  {
   "cell_type": "code",
   "execution_count": 147,
   "metadata": {},
   "outputs": [
    {
     "data": {
      "text/plain": [
       "87654"
      ]
     },
     "execution_count": 147,
     "metadata": {},
     "output_type": "execute_result"
    }
   ],
   "source": [
    "Descending_Order_2(45678)"
   ]
  },
  {
   "cell_type": "markdown",
   "metadata": {},
   "source": [
    "## Third Attempt\n",
    "I realized I didn't have to set desc = numList. Also... codewars only accepts answers as return not print"
   ]
  },
  {
   "cell_type": "code",
   "execution_count": 158,
   "metadata": {},
   "outputs": [],
   "source": [
    "def Descending_Order_3(num):\n",
    "    #convert to string; then to integer list\n",
    "    numList = [int(i) for i in str(num)]\n",
    "        \n",
    "    #sort digits in descending order\n",
    "    numList.sort(reverse=True)\n",
    "    \n",
    "    #convert digits back to a string\n",
    "    s = [str(i) for i in numList]\n",
    "    \n",
    "    #concatenate and print digits\n",
    "    lrg = int(\"\".join(s))\n",
    "    return lrg"
   ]
  },
  {
   "cell_type": "code",
   "execution_count": 159,
   "metadata": {},
   "outputs": [
    {
     "data": {
      "text/plain": [
       "87654"
      ]
     },
     "execution_count": 159,
     "metadata": {},
     "output_type": "execute_result"
    }
   ],
   "source": [
    "Descending_Order_3(45678)"
   ]
  },
  {
   "cell_type": "markdown",
   "metadata": {},
   "source": [
    "## Favorite Solution\n",
    "After going through other people's solution, I had the most appreciation for this line of code. I can really only move up from here."
   ]
  },
  {
   "cell_type": "code",
   "execution_count": null,
   "metadata": {},
   "outputs": [],
   "source": [
    "def Descending_Order(num):\n",
    "    return int(\"\".join(sorted(str(num), reverse=True)))"
   ]
  }
 ],
 "metadata": {
  "kernelspec": {
   "display_name": "Python 3",
   "language": "python",
   "name": "python3"
  },
  "language_info": {
   "codemirror_mode": {
    "name": "ipython",
    "version": 3
   },
   "file_extension": ".py",
   "mimetype": "text/x-python",
   "name": "python",
   "nbconvert_exporter": "python",
   "pygments_lexer": "ipython3",
   "version": "3.7.3"
  }
 },
 "nbformat": 4,
 "nbformat_minor": 2
}
