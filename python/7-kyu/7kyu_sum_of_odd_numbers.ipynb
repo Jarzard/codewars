{
 "cells": [
  {
   "cell_type": "markdown",
   "metadata": {},
   "source": [
    "# Sum of Odd Numbers\n",
    "---\n",
    "https://www.codewars.com/kata/sum-of-odd-numbers/python\n",
    "\n",
    "\n",
    "## Challenge\n",
    ">Given the triangle of consecutive odd numbers:\n",
    ">\n",
    ">             1\n",
    ">          3     5\n",
    ">       7     9    11   \n",
    ">\n",
    ">Calculate the row sums of this triangle from the row index (starting at index 1) e.g.\n",
    "\n",
    "<b>Example</b><br>\n",
    "row_sum_odd_numbers(1); # 1<br>\n",
    "row_sum_odd_numbers(2); # 3 + 5 = 8<br>\n"
   ]
  },
  {
   "cell_type": "markdown",
   "metadata": {},
   "source": [
    "## Attempt 1\n",
    "This was my thought process: <br>\n",
    "1. Find a pattern to determine the first number of the row\n",
    "2. Determine the last number of the row\n",
    "3. Increment 2 between the first and last number of the row\n",
    "4. Add all of the numbers"
   ]
  },
  {
   "cell_type": "code",
   "execution_count": 21,
   "metadata": {},
   "outputs": [],
   "source": [
    "def row_sum_odd_numbers_1(n):\n",
    "    #initialize empty array\n",
    "    rowList = []\n",
    "    \n",
    "    #initialize first number; identified using (n**2)-(n-1)\n",
    "    start = (n**2)-(n-1)\n",
    "    \n",
    "    #add 2 until last number of the row which is the start number plus (n-1)*2\n",
    "    while start <= (((n**2)-(n-1)) + (n-1)*2):\n",
    "        rowList.append(start)\n",
    "        start += 2\n",
    "    \n",
    "    #return the sum\n",
    "    return sum(rowList)"
   ]
  },
  {
   "cell_type": "code",
   "execution_count": 22,
   "metadata": {},
   "outputs": [
    {
     "data": {
      "text/plain": [
       "2197"
      ]
     },
     "execution_count": 22,
     "metadata": {},
     "output_type": "execute_result"
    }
   ],
   "source": [
    "row_sum_odd_numbers_1(13)"
   ]
  },
  {
   "cell_type": "markdown",
   "metadata": {},
   "source": [
    "## Favorite Solution\n",
    "I feel like you must've known this from prior knowledge... yes it works."
   ]
  },
  {
   "cell_type": "code",
   "execution_count": 26,
   "metadata": {},
   "outputs": [],
   "source": [
    "def row_sum_odd_numbers(n):\n",
    "    return n**3"
   ]
  },
  {
   "cell_type": "code",
   "execution_count": 27,
   "metadata": {},
   "outputs": [
    {
     "data": {
      "text/plain": [
       "2197"
      ]
     },
     "execution_count": 27,
     "metadata": {},
     "output_type": "execute_result"
    }
   ],
   "source": [
    "row_sum_odd_numbers(13)"
   ]
  }
 ],
 "metadata": {
  "kernelspec": {
   "display_name": "Python 3",
   "language": "python",
   "name": "python3"
  },
  "language_info": {
   "codemirror_mode": {
    "name": "ipython",
    "version": 3
   },
   "file_extension": ".py",
   "mimetype": "text/x-python",
   "name": "python",
   "nbconvert_exporter": "python",
   "pygments_lexer": "ipython3",
   "version": "3.7.3"
  }
 },
 "nbformat": 4,
 "nbformat_minor": 2
}
